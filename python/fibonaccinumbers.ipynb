{
 "cells": [
  {
   "cell_type": "code",
   "execution_count": 1,
   "metadata": {},
   "outputs": [],
   "source": [
    "import numpy as np "
   ]
  },
  {
   "cell_type": "code",
   "execution_count": 21,
   "metadata": {},
   "outputs": [
    {
     "name": "stdout",
     "output_type": "stream",
     "text": [
      "13\n"
     ]
    }
   ],
   "source": [
    "# numpy matrix potenzierung: linalg.matrix_power(a, n); a = matrix, n = potenz\n",
    "def fibonacci(n):\n",
    "    a = np.array([[1, 1], [1, 0]])\n",
    "    result = np.linalg.matrix_power(a, n)\n",
    "    return result[0, 1]\n",
    "\n",
    "# die funktion multipliziert die matrix a n mal mit sich selbst. der wert oben rechts in der matrix ist das ergebnis f(n)\n",
    "# weil der index ab 0 ist, in der index der zahl oben rechts bei einer 2x2 matrix [0, 1]\n",
    "\n",
    "\n",
    "fibonacci_number = fibonacci(7)\n",
    "print(fibonacci_number)\n",
    "    \n",
    "# das funktionert so nur wenn man davon ausgeht, dass die folge mit 1 beginnt und nicht mit 0.    "
   ]
  },
  {
   "cell_type": "code",
   "execution_count": 41,
   "metadata": {},
   "outputs": [
    {
     "name": "stdout",
     "output_type": "stream",
     "text": [
      "3\n"
     ]
    }
   ],
   "source": [
    "# um die folge mit 0 zu beginnen, muss man n mit (n-1) ersetzen.\n",
    "# für 0 und 1 funktioniert die formel jedoch nicht, deswegen muss man hier eine unterscheidung machen\n",
    "\n",
    "def fib(n):\n",
    "    if n <= 0:\n",
    "        return None\n",
    "    elif n == 1:\n",
    "        return 0\n",
    "    else:\n",
    "        a = np.array([[1, 1], [1, 0]])\n",
    "    result = np.linalg.matrix_power(a, n-1)\n",
    "    return result[0, 1] \n",
    "\n",
    "fib_number = fib(5)\n",
    "print(fib_number)"
   ]
  },
  {
   "cell_type": "code",
   "execution_count": null,
   "metadata": {},
   "outputs": [],
   "source": [
    "# so wie es aussieht kann man kein numpy benutzen 😡\n",
    "\n",
    " def matrix_multiply(a, b):\n",
    "        # Multipliziert zwei Matrizen a und b\n",
    "        rows_a, cols_a = len(a), len(a[0])\n",
    "        rows_b, cols_b = len(b), len(b[0])\n",
    "\n",
    "        result = [[0 for _ in range(cols_b)] for _ in range(rows_a)]\n",
    "\n",
    "        for i in range(rows_a):\n",
    "            for j in range(cols_b):\n",
    "                for k in range(cols_a):\n",
    "                    result[i][j] += a[i][k] * b[k][j]\n",
    "\n",
    "        return result\n",
    "\n",
    "\n",
    "    def matrix_power(matrix, exponent):\n",
    "        # Berechnet die Potenz einer Matrix\n",
    "        if exponent == 1:\n",
    "            return matrix\n",
    "        elif exponent % 2 == 0:\n",
    "            half_power = FibonacciPython.matrix_power(matrix, exponent // 2)\n",
    "            return FibonacciPython.matrix_multiply(half_power, half_power)\n",
    "        else:\n",
    "            return FibonacciPython.matrix_multiply(matrix, FibonacciPython.matrix_power(matrix, exponent - 1))\n",
    "\n",
    "\n",
    "    def fibonacci(number: int) -> int:\n",
    "        if number == 0:\n",
    "            return 0\n",
    "        elif number == 1:\n",
    "            return 1\n",
    "        else:\n",
    "            base_matrix = [[1, 1], [1, 0]]\n",
    "            result_matrix = FibonacciPython.matrix_power(base_matrix, number - 1)\n",
    "            return result_matrix[0][1]"
   ]
  }
 ],
 "metadata": {
  "kernelspec": {
   "display_name": "base",
   "language": "python",
   "name": "python3"
  },
  "language_info": {
   "codemirror_mode": {
    "name": "ipython",
    "version": 3
   },
   "file_extension": ".py",
   "mimetype": "text/x-python",
   "name": "python",
   "nbconvert_exporter": "python",
   "pygments_lexer": "ipython3",
   "version": "3.11.4"
  }
 },
 "nbformat": 4,
 "nbformat_minor": 2
}
